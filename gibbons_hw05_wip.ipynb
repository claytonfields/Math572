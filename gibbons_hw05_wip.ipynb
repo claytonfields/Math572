{
 "cells": [
  {
   "cell_type": "code",
   "execution_count": 1,
   "metadata": {},
   "outputs": [],
   "source": [
    "from IPython import get_ipython\n"
   ]
  },
  {
   "cell_type": "markdown",
   "metadata": {},
   "source": [
    "  # Computational Statistics Homework 05\n",
    "  Kalin Gibbons\n",
    "  2020-02-13"
   ]
  },
  {
   "cell_type": "markdown",
   "metadata": {},
   "source": [
    " ## Problem 1\n",
    " Problem 2.6 on page 56 of the _Computation Statistics_ book.\n",
    " Required output to be embedded within the submitted Jupyter Notebook:\n",
    " All of the output correspoinding to a specific question must begin in a\n",
    " Markdown Cell with a heading, for example,\n",
    "\n",
    " **Answer to part (a):**\n",
    "\n",
    " --so that the grader can easily find your answer to each question.\n",
    "\n",
    " * (a) - (c) each. Present your estimates in the last five iterations in a format similar\n",
    "   to Table 2.1. Plot the fitted model together with the observed data in a\n",
    "   single plot."
   ]
  },
  {
   "cell_type": "markdown",
   "metadata": {},
   "source": [
    " ### Problem 2.6\n",
    "\n",
    " Table 2.3 provides counts of a flour beetle (_Tribolium confusum_) population\n",
    " at various points in time [103]. Beetles in all stages of development were\n",
    " counted, and the food supply was carefully controlled.\n",
    "\n",
    " An elementary model for population growth is the logistic model given by\n",
    "\n",
    " $$\\frac{d N}{d t} = r N \\left( 1 - \\frac{N}{K} \\right),$$\n",
    "\n",
    " where $N$ is population size, $t$ is time, $r$ is a growth rate parameter,\n",
    " and $K$ is a parameter that represents the population carrying capacity of\n",
    " the environment. The solution to this differential equation is given by\n",
    "\n",
    " $$N_t = f(t) = \\frac{K N_0}{N_0 + (K - N_0) \\exp(-r t)}$$\n",
    "\n",
    " where $N_t$ denotes the population size at time $t$.\n",
    "\n",
    " * (a) Fit the logistic growth model to the flour beetle data using the\n",
    "   Gauss-Newton approach to minimize the sum of squared errors between model\n",
    "   predictions and observed counts.\n",
    "\n",
    " * (b) Fit the logistic growth model to the flour beetle data using the\n",
    "   Newton-Raphson approach to minimze the sum of squared errors between model\n",
    "   predictions and observed counts.\n",
    "\n",
    " * (c) In many population modeling applications, an assumption of lognormality\n",
    "   is adopted. The simples assumption would be that the $\\log N_t$ are\n",
    "   independent and normally distributed with mean $\\log f(t)$ and variance\n",
    "   $\\sigma^2$. Find the MLEs under this assumption, using both the\n",
    "   Gauss-Newton and Newton-Raphson methods. Provide standard errors for your\n",
    "   parameter estimates, and an estimate of the correlation between them.\n",
    "   Comment."
   ]
  },
  {
   "cell_type": "markdown",
   "metadata": {},
   "source": [
    " #### Module importing"
   ]
  },
  {
   "cell_type": "code",
   "execution_count": 2,
   "metadata": {},
   "outputs": [],
   "source": [
    "\n",
    "import numpy as np\n",
    "import pandas as pd\n",
    "import sympy as sp\n"
   ]
  },
  {
   "cell_type": "markdown",
   "metadata": {},
   "source": [
    " #### Import the data"
   ]
  },
  {
   "cell_type": "code",
   "execution_count": 3,
   "metadata": {},
   "outputs": [
    {
     "data": {
      "text/html": [
       "<div>\n",
       "<style scoped>\n",
       "    .dataframe tbody tr th:only-of-type {\n",
       "        vertical-align: middle;\n",
       "    }\n",
       "\n",
       "    .dataframe tbody tr th {\n",
       "        vertical-align: top;\n",
       "    }\n",
       "\n",
       "    .dataframe thead th {\n",
       "        text-align: right;\n",
       "    }\n",
       "</style>\n",
       "<table border=\"1\" class=\"dataframe\">\n",
       "  <thead>\n",
       "    <tr style=\"text-align: right;\">\n",
       "      <th></th>\n",
       "      <th>days</th>\n",
       "      <th>population</th>\n",
       "    </tr>\n",
       "  </thead>\n",
       "  <tbody>\n",
       "    <tr>\n",
       "      <th>0</th>\n",
       "      <td>0</td>\n",
       "      <td>2</td>\n",
       "    </tr>\n",
       "    <tr>\n",
       "      <th>1</th>\n",
       "      <td>8</td>\n",
       "      <td>47</td>\n",
       "    </tr>\n",
       "    <tr>\n",
       "      <th>2</th>\n",
       "      <td>28</td>\n",
       "      <td>192</td>\n",
       "    </tr>\n",
       "    <tr>\n",
       "      <th>3</th>\n",
       "      <td>41</td>\n",
       "      <td>256</td>\n",
       "    </tr>\n",
       "    <tr>\n",
       "      <th>4</th>\n",
       "      <td>63</td>\n",
       "      <td>768</td>\n",
       "    </tr>\n",
       "    <tr>\n",
       "      <th>5</th>\n",
       "      <td>79</td>\n",
       "      <td>896</td>\n",
       "    </tr>\n",
       "    <tr>\n",
       "      <th>6</th>\n",
       "      <td>97</td>\n",
       "      <td>1120</td>\n",
       "    </tr>\n",
       "    <tr>\n",
       "      <th>7</th>\n",
       "      <td>117</td>\n",
       "      <td>896</td>\n",
       "    </tr>\n",
       "    <tr>\n",
       "      <th>8</th>\n",
       "      <td>135</td>\n",
       "      <td>1184</td>\n",
       "    </tr>\n",
       "    <tr>\n",
       "      <th>9</th>\n",
       "      <td>154</td>\n",
       "      <td>1024</td>\n",
       "    </tr>\n",
       "  </tbody>\n",
       "</table>\n",
       "</div>"
      ],
      "text/plain": [
       "   days  population\n",
       "0     0           2\n",
       "1     8          47\n",
       "2    28         192\n",
       "3    41         256\n",
       "4    63         768\n",
       "5    79         896\n",
       "6    97        1120\n",
       "7   117         896\n",
       "8   135        1184\n",
       "9   154        1024"
      ]
     },
     "execution_count": 3,
     "metadata": {},
     "output_type": "execute_result"
    }
   ],
   "source": [
    "dat_dict = {'days': [0, 8, 28, 41, 63, 79, 97, 117, 135, 154],\n",
    "            'population': [2, 47, 192, 256, 768, 896, 1120, 896, 1184, 1024]}\n",
    "beetle_data = pd.DataFrame(dat_dict)\n",
    "beetle_data\n"
   ]
  },
  {
   "cell_type": "markdown",
   "metadata": {},
   "source": [
    " #### Plan the solution\n",
    " The growth rate $r$ and population carrying capacity $K$ are the parameters\n",
    " which will need to be fit to the data. This is a bivariate optimization\n",
    " problem, which will require two gradients of length two, and two $2 \\times 2$\n",
    " Hessian's, for the Newton-Raphson method. There are products and quotients of\n",
    " functions of differentiable variables, so we will want to use sympy to\n",
    " facilitate our calculations.\n",
    "\n",
    " For the Gauss Newton method, we are maximizing an objective function\n",
    "\n",
    " $$N_i = f(\\mathbf{t_i}, \\mathbf{\\theta}) + \\varepsilon_i$$\n"
   ]
  },
  {
   "cell_type": "markdown",
   "metadata": {},
   "source": [
    " for our nonlinear function $f$ and random error $\\varepsilon_i$.\n",
    "\n",
    " We can formulate the solutions as:\n",
    "\n",
    " $$\\Delta\\mathbf{\\theta} = \\left( \\mathbf{J^{(t)}} \\cdot \\mathbf{J^{(t)}} \\right)^{-1} \\mathbf{J^{(t)}} \\mathbf{x^{(t)}}$$\n",
    "\n",
    " Where\n",
    "\n",
    " $$\\Delta \\mathbf{\\theta} = \\mathbf{\\theta}^{(t + 1)} - \\mathbf{\\theta}^{(t)}$$\n",
    "\n",
    " and $\\mathbf{x}^{(t)}$ is a column vector called the working response, which\n",
    " contains elements\n",
    "\n",
    " $$x_i^{(t)} = n_{i}^{(t)} - f(t, N_o; K, r)$$\n"
   ]
  },
  {
   "cell_type": "code",
   "execution_count": 4,
   "metadata": {},
   "outputs": [
    {
     "name": "stdout",
     "output_type": "stream",
     "text": [
      "K⋅N₀       \n",
      "───────────────────\n",
      "               -r⋅t\n",
      "N₀ + (K - N₀)⋅ℯ    \n"
     ]
    }
   ],
   "source": [
    "# Set up the function using sympy\n",
    "\n",
    "k, n0, r, t = sp.symbols('K N_0 r t')\n",
    "\n",
    "num = k * n0\n",
    "den = n0 + (k - n0) * sp.exp(-r * t)\n",
    "n_beetles = num / den\n",
    "sp.pprint(n_beetles)\n"
   ]
  },
  {
   "cell_type": "code",
   "execution_count": 5,
   "metadata": {},
   "outputs": [
    {
     "data": {
      "text/plain": [
       "0       -K*N_0/(N_0 + (K - N_0)*exp(-r*t)) + 2\n",
       "1      -K*N_0/(N_0 + (K - N_0)*exp(-r*t)) + 47\n",
       "2     -K*N_0/(N_0 + (K - N_0)*exp(-r*t)) + 192\n",
       "3     -K*N_0/(N_0 + (K - N_0)*exp(-r*t)) + 256\n",
       "4     -K*N_0/(N_0 + (K - N_0)*exp(-r*t)) + 768\n",
       "5     -K*N_0/(N_0 + (K - N_0)*exp(-r*t)) + 896\n",
       "6    -K*N_0/(N_0 + (K - N_0)*exp(-r*t)) + 1120\n",
       "7     -K*N_0/(N_0 + (K - N_0)*exp(-r*t)) + 896\n",
       "8    -K*N_0/(N_0 + (K - N_0)*exp(-r*t)) + 1184\n",
       "9    -K*N_0/(N_0 + (K - N_0)*exp(-r*t)) + 1024\n",
       "Name: population, dtype: object"
      ]
     },
     "execution_count": 5,
     "metadata": {},
     "output_type": "execute_result"
    }
   ],
   "source": [
    "# Create the vector $\\mathbf{x}$\n",
    "\n",
    "work_resp = beetle_data['population'] - n_beetles\n",
    "work_resp\n"
   ]
  },
  {
   "cell_type": "code",
   "execution_count": 6,
   "metadata": {},
   "outputs": [
    {
     "data": {
      "text/latex": [
       "$\\displaystyle \\left[\\begin{matrix}\\frac{\\partial}{\\partial K} \\operatorname{f_{1}}{\\left(K,r \\right)} & \\frac{\\partial}{\\partial r} \\operatorname{f_{1}}{\\left(K,r \\right)}\\\\\\frac{\\partial}{\\partial K} \\operatorname{f_{2}}{\\left(K,r \\right)} & \\frac{\\partial}{\\partial r} \\operatorname{f_{2}}{\\left(K,r \\right)}\\\\\\frac{\\partial}{\\partial K} \\operatorname{f_{m}}{\\left(K,r \\right)} & \\frac{\\partial}{\\partial r} \\operatorname{f_{m}}{\\left(K,r \\right)}\\end{matrix}\\right]$"
      ],
      "text/plain": [
       "[[Derivative(f_1(K, r), K), Derivative(f_1(K, r), r)], [Derivative(f_2(K, r), K), Derivative(f_2(K, r), r)], [Derivative(f_m(K, r), K), Derivative(f_m(K, r), r)]]"
      ]
     },
     "execution_count": 6,
     "metadata": {},
     "output_type": "execute_result"
    }
   ],
   "source": [
    "# Create our Jacobian's\n",
    "f1 = sp.Function('f_1')(k, r)\n",
    "f2 = sp.Function('f_2')(k, r)\n",
    "fm = sp.Function('f_m')(k, r)\n",
    "jacobian = sp.derive_by_array((f1, f2, fm), (k, r)).transpose()\n",
    "jacobian\n"
   ]
  },
  {
   "cell_type": "code",
   "execution_count": 7,
   "metadata": {},
   "outputs": [
    {
     "data": {
      "text/latex": [
       "$\\displaystyle \\left[\\begin{matrix}- \\frac{K N_{0} e^{- r t}}{\\left(N_{0} + \\left(K - N_{0}\\right) e^{- r t}\\right)^{2}} + \\frac{N_{0}}{N_{0} + \\left(K - N_{0}\\right) e^{- r t}} & \\frac{K N_{0} t \\left(K - N_{0}\\right) e^{- r t}}{\\left(N_{0} + \\left(K - N_{0}\\right) e^{- r t}\\right)^{2}}\\end{matrix}\\right]$"
      ],
      "text/plain": [
       "[-K*N_0*exp(-r*t)/(N_0 + (K - N_0)*exp(-r*t))**2 + N_0/(N_0 + (K - N_0)*exp(-r*t)), K*N_0*t*(K - N_0)*exp(-r*t)/(N_0 + (K - N_0)*exp(-r*t))**2]"
      ]
     },
     "execution_count": 7,
     "metadata": {},
     "output_type": "execute_result"
    }
   ],
   "source": [
    "sp.derive_by_array(n_beetles, (k, r))\n"
   ]
  },
  {
   "cell_type": "code",
   "execution_count": 8,
   "metadata": {},
   "outputs": [
    {
     "data": {
      "text/latex": [
       "$\\displaystyle \\left[\\begin{matrix}0 & 0\\\\- \\frac{2 K e^{- 8 r}}{\\left(\\left(K - 2\\right) e^{- 8 r} + 2\\right)^{2}} + \\frac{2}{\\left(K - 2\\right) e^{- 8 r} + 2} & \\frac{16 K \\left(K - 2\\right) e^{- 8 r}}{\\left(\\left(K - 2\\right) e^{- 8 r} + 2\\right)^{2}}\\\\- \\frac{2 K e^{- 28 r}}{\\left(\\left(K - 2\\right) e^{- 28 r} + 2\\right)^{2}} + \\frac{2}{\\left(K - 2\\right) e^{- 28 r} + 2} & \\frac{56 K \\left(K - 2\\right) e^{- 28 r}}{\\left(\\left(K - 2\\right) e^{- 28 r} + 2\\right)^{2}}\\\\- \\frac{2 K e^{- 41 r}}{\\left(\\left(K - 2\\right) e^{- 41 r} + 2\\right)^{2}} + \\frac{2}{\\left(K - 2\\right) e^{- 41 r} + 2} & \\frac{82 K \\left(K - 2\\right) e^{- 41 r}}{\\left(\\left(K - 2\\right) e^{- 41 r} + 2\\right)^{2}}\\\\- \\frac{2 K e^{- 63 r}}{\\left(\\left(K - 2\\right) e^{- 63 r} + 2\\right)^{2}} + \\frac{2}{\\left(K - 2\\right) e^{- 63 r} + 2} & \\frac{126 K \\left(K - 2\\right) e^{- 63 r}}{\\left(\\left(K - 2\\right) e^{- 63 r} + 2\\right)^{2}}\\\\- \\frac{2 K e^{- 79 r}}{\\left(\\left(K - 2\\right) e^{- 79 r} + 2\\right)^{2}} + \\frac{2}{\\left(K - 2\\right) e^{- 79 r} + 2} & \\frac{158 K \\left(K - 2\\right) e^{- 79 r}}{\\left(\\left(K - 2\\right) e^{- 79 r} + 2\\right)^{2}}\\\\- \\frac{2 K e^{- 97 r}}{\\left(\\left(K - 2\\right) e^{- 97 r} + 2\\right)^{2}} + \\frac{2}{\\left(K - 2\\right) e^{- 97 r} + 2} & \\frac{194 K \\left(K - 2\\right) e^{- 97 r}}{\\left(\\left(K - 2\\right) e^{- 97 r} + 2\\right)^{2}}\\\\- \\frac{2 K e^{- 117 r}}{\\left(\\left(K - 2\\right) e^{- 117 r} + 2\\right)^{2}} + \\frac{2}{\\left(K - 2\\right) e^{- 117 r} + 2} & \\frac{234 K \\left(K - 2\\right) e^{- 117 r}}{\\left(\\left(K - 2\\right) e^{- 117 r} + 2\\right)^{2}}\\\\- \\frac{2 K e^{- 135 r}}{\\left(\\left(K - 2\\right) e^{- 135 r} + 2\\right)^{2}} + \\frac{2}{\\left(K - 2\\right) e^{- 135 r} + 2} & \\frac{270 K \\left(K - 2\\right) e^{- 135 r}}{\\left(\\left(K - 2\\right) e^{- 135 r} + 2\\right)^{2}}\\\\- \\frac{2 K e^{- 154 r}}{\\left(\\left(K - 2\\right) e^{- 154 r} + 2\\right)^{2}} + \\frac{2}{\\left(K - 2\\right) e^{- 154 r} + 2} & \\frac{308 K \\left(K - 2\\right) e^{- 154 r}}{\\left(\\left(K - 2\\right) e^{- 154 r} + 2\\right)^{2}}\\end{matrix}\\right]$"
      ],
      "text/plain": [
       "[[0, 0], [-2*K*exp(-8*r)/((K - 2)*exp(-8*r) + 2)**2 + 2/((K - 2)*exp(-8*r) + 2), 16*K*(K - 2)*exp(-8*r)/((K - 2)*exp(-8*r) + 2)**2], [-2*K*exp(-28*r)/((K - 2)*exp(-28*r) + 2)**2 + 2/((K - 2)*exp(-28*r) + 2), 56*K*(K - 2)*exp(-28*r)/((K - 2)*exp(-28*r) + 2)**2], [-2*K*exp(-41*r)/((K - 2)*exp(-41*r) + 2)**2 + 2/((K - 2)*exp(-41*r) + 2), 82*K*(K - 2)*exp(-41*r)/((K - 2)*exp(-41*r) + 2)**2], [-2*K*exp(-63*r)/((K - 2)*exp(-63*r) + 2)**2 + 2/((K - 2)*exp(-63*r) + 2), 126*K*(K - 2)*exp(-63*r)/((K - 2)*exp(-63*r) + 2)**2], [-2*K*exp(-79*r)/((K - 2)*exp(-79*r) + 2)**2 + 2/((K - 2)*exp(-79*r) + 2), 158*K*(K - 2)*exp(-79*r)/((K - 2)*exp(-79*r) + 2)**2], [-2*K*exp(-97*r)/((K - 2)*exp(-97*r) + 2)**2 + 2/((K - 2)*exp(-97*r) + 2), 194*K*(K - 2)*exp(-97*r)/((K - 2)*exp(-97*r) + 2)**2], [-2*K*exp(-117*r)/((K - 2)*exp(-117*r) + 2)**2 + 2/((K - 2)*exp(-117*r) + 2), 234*K*(K - 2)*exp(-117*r)/((K - 2)*exp(-117*r) + 2)**2], [-2*K*exp(-135*r)/((K - 2)*exp(-135*r) + 2)**2 + 2/((K - 2)*exp(-135*r) + 2), 270*K*(K - 2)*exp(-135*r)/((K - 2)*exp(-135*r) + 2)**2], [-2*K*exp(-154*r)/((K - 2)*exp(-154*r) + 2)**2 + 2/((K - 2)*exp(-154*r) + 2), 308*K*(K - 2)*exp(-154*r)/((K - 2)*exp(-154*r) + 2)**2]]"
      ]
     },
     "execution_count": 8,
     "metadata": {},
     "output_type": "execute_result"
    }
   ],
   "source": [
    "# Look's like that jacobian matches what we're looking for. Let's create the\n",
    "# proper one.\n",
    "all_f = (n_beetles for row in range(beetle_data.shape[0]))\n",
    "all_f = []\n",
    "pop_0 = beetle_data.loc[0, 'population']\n",
    "for row in beetle_data.itertuples():\n",
    "    iF = n_beetles.subs(t, row.days).subs(n0, pop_0)\n",
    "    all_f.append(iF)\n",
    "jacobian = sp.derive_by_array(all_f, (k, r)).transpose()\n",
    "jacobian\n"
   ]
  },
  {
   "cell_type": "code",
   "execution_count": 9,
   "metadata": {},
   "outputs": [
    {
     "data": {
      "text/plain": [
       "[0,\n",
       " -2*K/((K - 2)*exp(-8*r) + 2) + 47,\n",
       " -2*K/((K - 2)*exp(-28*r) + 2) + 192,\n",
       " -2*K/((K - 2)*exp(-41*r) + 2) + 256,\n",
       " -2*K/((K - 2)*exp(-63*r) + 2) + 768,\n",
       " -2*K/((K - 2)*exp(-79*r) + 2) + 896,\n",
       " -2*K/((K - 2)*exp(-97*r) + 2) + 1120,\n",
       " -2*K/((K - 2)*exp(-117*r) + 2) + 896,\n",
       " -2*K/((K - 2)*exp(-135*r) + 2) + 1184,\n",
       " -2*K/((K - 2)*exp(-154*r) + 2) + 1024]"
      ]
     },
     "execution_count": 9,
     "metadata": {},
     "output_type": "execute_result"
    }
   ],
   "source": [
    "# Okay, now we can create the delta function\n",
    "work_resp = []\n",
    "for row in beetle_data.itertuples():\n",
    "    iF = row.population - n_beetles.subs([(t, row.days), (n0, pop_0)])\n",
    "    work_resp.append(iF)\n",
    "work_resp\n"
   ]
  },
  {
   "cell_type": "code",
   "execution_count": 10,
   "metadata": {},
   "outputs": [
    {
     "data": {
      "text/plain": [
       "<function _lambdifygenerated(K, r)>"
      ]
     },
     "execution_count": 10,
     "metadata": {},
     "output_type": "execute_result"
    }
   ],
   "source": [
    "work_resp = sp.utilities.lambdify((k, r), work_resp, 'numpy')\n",
    "work_resp\n"
   ]
  },
  {
   "cell_type": "code",
   "execution_count": 11,
   "metadata": {},
   "outputs": [
    {
     "data": {
      "text/plain": [
       "<function _lambdifygenerated(K, r)>"
      ]
     },
     "execution_count": 11,
     "metadata": {},
     "output_type": "execute_result"
    }
   ],
   "source": [
    "jacobian = sp.utilities.lambdify((k, r), jacobian, 'numpy')\n",
    "jacobian\n",
    "\n"
   ]
  },
  {
   "cell_type": "code",
   "execution_count": 12,
   "metadata": {},
   "outputs": [
    {
     "name": "stdout",
     "output_type": "stream",
     "text": [
      "[9.87396868e+02 1.36665833e-01]\n",
      "[1.01328182e+03 1.23433709e-01]\n",
      "[1.02879375e+03 1.19347017e-01]\n",
      "[1.03247009e+03 1.18322353e-01]\n",
      "[1.03325327e+03 1.18054458e-01]\n",
      "[1.03344705e+03 1.17983873e-01]\n",
      "[1.03349736e+03 1.17965242e-01]\n",
      "[1.03351058e+03 1.17960323e-01]\n",
      "[1.03351407e+03 1.17959024e-01]\n",
      "[1.0335150e+03 1.1795868e-01]\n",
      "[1.03351524e+03 1.17958590e-01]\n",
      "[1.03351530e+03 1.17958566e-01]\n"
     ]
    }
   ],
   "source": [
    "def gauss_newton_update(guess):\n",
    "    guess = np.array(guess)\n",
    "    k = guess[0]\n",
    "    r = guess[1]\n",
    "    J = np.array(jacobian(k, r))\n",
    "    x = np.array(work_resp(k, r))\n",
    "    new_guess = guess + np.linalg.inv(J.T @ J) @ J.T @ x\n",
    "    return new_guess\n",
    "\n",
    "\n",
    "guess = [1200, 0.17]\n",
    "for i in range(12):\n",
    "    guess = gauss_newton_update(guess)\n",
    "    print(guess)\n",
    "guess\n",
    "\n",
    "import inspect"
   ]
  },
  {
   "cell_type": "code",
   "execution_count": 13,
   "metadata": {},
   "outputs": [
    {
     "name": "stdout",
     "output_type": "stream",
     "text": [
      "def _lambdifygenerated(K, r):\n",
      "    return ([[0, 0], [-2*K*exp(-8*r)/((K - 2)*exp(-8*r) + 2)**2 + 2/((K - 2)*exp(-8*r) + 2), 16*K*(K - 2)*exp(-8*r)/((K - 2)*exp(-8*r) + 2)**2], [-2*K*exp(-28*r)/((K - 2)*exp(-28*r) + 2)**2 + 2/((K - 2)*exp(-28*r) + 2), 56*K*(K - 2)*exp(-28*r)/((K - 2)*exp(-28*r) + 2)**2], [-2*K*exp(-41*r)/((K - 2)*exp(-41*r) + 2)**2 + 2/((K - 2)*exp(-41*r) + 2), 82*K*(K - 2)*exp(-41*r)/((K - 2)*exp(-41*r) + 2)**2], [-2*K*exp(-63*r)/((K - 2)*exp(-63*r) + 2)**2 + 2/((K - 2)*exp(-63*r) + 2), 126*K*(K - 2)*exp(-63*r)/((K - 2)*exp(-63*r) + 2)**2], [-2*K*exp(-79*r)/((K - 2)*exp(-79*r) + 2)**2 + 2/((K - 2)*exp(-79*r) + 2), 158*K*(K - 2)*exp(-79*r)/((K - 2)*exp(-79*r) + 2)**2], [-2*K*exp(-97*r)/((K - 2)*exp(-97*r) + 2)**2 + 2/((K - 2)*exp(-97*r) + 2), 194*K*(K - 2)*exp(-97*r)/((K - 2)*exp(-97*r) + 2)**2], [-2*K*exp(-117*r)/((K - 2)*exp(-117*r) + 2)**2 + 2/((K - 2)*exp(-117*r) + 2), 234*K*(K - 2)*exp(-117*r)/((K - 2)*exp(-117*r) + 2)**2], [-2*K*exp(-135*r)/((K - 2)*exp(-135*r) + 2)**2 + 2/((K - 2)*exp(-135*r) + 2), 270*K*(K - 2)*exp(-135*r)/((K - 2)*exp(-135*r) + 2)**2], [-2*K*exp(-154*r)/((K - 2)*exp(-154*r) + 2)**2 + 2/((K - 2)*exp(-154*r) + 2), 308*K*(K - 2)*exp(-154*r)/((K - 2)*exp(-154*r) + 2)**2]])\n",
      "\n"
     ]
    }
   ],
   "source": [
    "print(inspect.getsource(jacobian))"
   ]
  }
 ],
 "metadata": {
  "file_extension": ".py",
  "kernelspec": {
   "display_name": "Python 3",
   "language": "python",
   "name": "python3"
  },
  "language_info": {
   "codemirror_mode": {
    "name": "ipython",
    "version": 3
   },
   "file_extension": ".py",
   "mimetype": "text/x-python",
   "name": "python",
   "nbconvert_exporter": "python",
   "pygments_lexer": "ipython3",
   "version": "3.7.0"
  },
  "mimetype": "text/x-python",
  "name": "python",
  "npconvert_exporter": "python",
  "pygments_lexer": "ipython3",
  "version": 3
 },
 "nbformat": 4,
 "nbformat_minor": 2
}
