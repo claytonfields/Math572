{
 "cells": [
  {
   "cell_type": "markdown",
   "metadata": {},
   "source": [
    "\n",
    "Clayton Fields\n",
    "Homework 4\n",
    "\n"
   ]
  },
  {
   "cell_type": "markdown",
   "metadata": {},
   "source": [
    "Problem 1:\n",
    "\n",
    "Part a: Derive the Newton Raphson updating equation.\n",
    "\n",
    "$f(x) = \\frac{\\lambda^x}{x!}\\exp{\\{-\\lambda\\}}$\n",
    "\n",
    "\n",
    "Then as we have $\\lambda = \\alpha\\beta$ and $x_i=N_i$\n",
    "\n",
    "$L(\\alpha) = \\prod_{i=1} \\frac{\\lambda^N}{N!}\\exp{\\{-\\alpha^T\\beta\\}}$\n",
    "\n",
    "$\\ell(\\alpha) = n\\sum_{i=1}^n\\log{\\{\\alpha^T\\beta_i\\}} - log{\\{N_i!\\}} - \\sum_{i=1}^n \\alpha^T\\beta_i$\n",
    "\n",
    "$\\ell'(\\alpha)=  \\sum_{i=1}^n \\frac{N_i\\beta_i}{\\alpha^T\\beta_i} - \\sum_{i=1}^n \\beta_i$\n",
    "\n",
    "$\\ell''(\\alpha) = -\\sum_{i=1}^n \\frac{N_i\\beta_i\\beta_i^T}{(\\alpha^T\\beta_i)^2}$\n",
    "\n",
    "Then our updating equation is:\n",
    "\n",
    "$\\alpha^{(t+1)} = \\alpha^{(t)} - \\big[\\sum_{i=1}^n \\frac{N_i\\beta_i\\beta_i^T}{(\\alpha^{(t)T}\\beta_i)^2}\\big]^{-1}\\cdot(\\sum_{i=1}^n \\frac{N_i\\beta_i}{\\alpha^{(t)T}\\beta_i} - \\sum_{i=1}^n \\beta_i)$\n"
   ]
  },
  {
   "cell_type": "markdown",
   "metadata": {},
   "source": [
    "Part b: Derive the Fisher Scoring update for finding the MLE's of $\\alpha$.\n",
    "\n",
    "$I(\\alpha) = -E(\\ell''(\\alpha)) = -E(-\\sum_{i=1}^n \\frac{N_i}{\\alpha^T\\beta_i}\\beta_i\\beta^T)$\n",
    "\n",
    "$\\sum_{i=1}^n \\frac{E(N_i)\\beta_i\\beta_i^T}{(\\alpha^T\\beta)^2}  = \\sum_{i=1}^n \\frac{(\\alpha^T\\beta)\\beta_i\\beta_i^T}{(\\alpha^T\\beta)^2} = $\n",
    "\n",
    "$\\sum_{i=1}^n \\frac{1}{\\alpha^T\\beta}\\beta_i\\beta_i^T $\n",
    "\n",
    "Then our updating equation is:\n",
    "\n",
    "$\\alpha^{(t+1)} = \\alpha^{(t)} + \\big[\\sum_{i=1}^n \\frac{1}{\\alpha^{(t)T}\\beta}\\beta_i\\beta_i^T\\big]^{-1}\\cdot(\\sum_{i=1}^n \\frac{N_i\\beta_i}{\\alpha^{(t)T}\\beta_i} - \\sum_{i=1}^n \\beta_i)$"
   ]
  },
  {
   "cell_type": "code",
   "execution_count": 57,
   "metadata": {},
   "outputs": [],
   "source": [
    "##Part c: Implement the methods\n",
    "\n",
    "#!/usr/bin/env python3\n",
    "# -*- coding: utf-8 -*-\n",
    "\"\"\"\n",
    "Created on Sat Feb  8 12:54:44 2020\n",
    "\n",
    "@author: claytonfields\n",
    "\"\"\"\n",
    "\n",
    "import numpy as np\n",
    "import pandas as pd\n",
    "from scipy.linalg import inv\n",
    "import math\n",
    "import matplotlib.pyplot as plt\n",
    "\n",
    "def l(alpha,beta,N):\n",
    "    n = N.size\n",
    "    temp = []\n",
    "    retval = np.zeros((alpha.size,1))\n",
    "    for i in range(n):\n",
    "        b_i = beta[i].reshape(alpha.size,1)\n",
    "        N_i = N[i]\n",
    "        foo = np.asscalar(alpha.T.dot(beta[i]))\n",
    "        temp.append(N_i*np.log(foo) - np.log(math.factorial(N_i)) - foo)\n",
    "    for x in temp:\n",
    "        retval +=x\n",
    "    return retval\n",
    "    \n",
    "\n",
    "def lprime(alpha, beta, N):\n",
    "    n = N.size\n",
    "    temp = []\n",
    "    retval = np.zeros((2,1))\n",
    "    for i in range(n):\n",
    "        b_i = beta[i].reshape(2,1)\n",
    "        N_i = N[i]\n",
    "        foo = np.asscalar(alpha.T.dot(beta[i]))\n",
    "        temp.append(N[i]*b_i*(1/foo) - b_i)\n",
    "    for x in temp:\n",
    "        retval +=x\n",
    "    return retval\n",
    "\n",
    "def l2prime(alpha, beta, N):\n",
    "    n = N.size\n",
    "    temp = []\n",
    "    retval = np.zeros((2,2))\n",
    "    for i in range(n):\n",
    "        b_i = beta[i].reshape(2,1)\n",
    "        N_i = np.asscalar(N[i])\n",
    "        foo = np.asscalar((alpha.T.dot(b_i))**2)\n",
    "        temp.append(-(N_i/foo)*np.outer(b_i,b_i.T))\n",
    "    for x in temp:\n",
    "        retval+=x\n",
    "    return retval\n",
    "\n",
    "def fisher(alpha, beta, N):\n",
    "    n = N.size\n",
    "    temp = []\n",
    "    retval = np.zeros((2,2))\n",
    "    for i in range(n):\n",
    "        b_i = beta[i].reshape(-1,1)\n",
    "        foo = np.asscalar(np.dot(alpha.T,b_i))\n",
    "        temp.append((1/foo)*np.outer(b_i,b_i.T))\n",
    "    for x in temp:\n",
    "        retval+=x\n",
    "    return retval\n",
    "    \n",
    "    \n",
    "data = pd.read_csv('oilspills.dat' ,sep = \" \")\n",
    "\n",
    "\n",
    "b1 = data['importexport'].to_numpy().reshape(26,1)\n",
    "b2 = data['domestic'].to_numpy().reshape(26,1)\n",
    "N = data['spills'].to_numpy().reshape(26,1)\n",
    "beta = np.hstack((b1,b2))\n",
    "\n"
   ]
  },
  {
   "cell_type": "code",
   "execution_count": 59,
   "metadata": {},
   "outputs": [
    {
     "name": "stdout",
     "output_type": "stream",
     "text": [
      "Newton's method\n",
      "\n",
      "Table for MLE using Newton's Method\n"
     ]
    },
    {
     "data": {
      "text/html": [
       "<style  type=\"text/css\" >\n",
       "    #T_b3cb849e_4e69_11ea_be1e_f0189880cf47 th {\n",
       "          text-align: center;\n",
       "    }</style><table id=\"T_b3cb849e_4e69_11ea_be1e_f0189880cf47\" ><thead>    <tr>        <th class=\"col_heading level0 col0\" >Iteration,t</th>        <th class=\"col_heading level0 col1\" >alpha^\\(t)</th>        <th class=\"col_heading level0 col2\" >[M^(t)]^-1</th>    </tr></thead><tbody>\n",
       "                <tr>\n",
       "                                <td id=\"T_b3cb849e_4e69_11ea_be1e_f0189880cf47row0_col0\" class=\"data row0 col0\" >2</td>\n",
       "                        <td id=\"T_b3cb849e_4e69_11ea_be1e_f0189880cf47row0_col1\" class=\"data row0 col1\" >[[0.58673712]\n",
       " [0.55863388]]</td>\n",
       "                        <td id=\"T_b3cb849e_4e69_11ea_be1e_f0189880cf47row0_col2\" class=\"data row0 col2\" >[[-0.04542835  0.05113135]\n",
       " [ 0.05113135 -0.09622699]]</td>\n",
       "            </tr>\n",
       "            <tr>\n",
       "                                <td id=\"T_b3cb849e_4e69_11ea_be1e_f0189880cf47row1_col0\" class=\"data row1 col0\" >3</td>\n",
       "                        <td id=\"T_b3cb849e_4e69_11ea_be1e_f0189880cf47row1_col1\" class=\"data row1 col1\" >[[0.86005387]\n",
       " [0.78584383]]</td>\n",
       "                        <td id=\"T_b3cb849e_4e69_11ea_be1e_f0189880cf47row1_col2\" class=\"data row1 col2\" >[[-0.09590347  0.10725054]\n",
       " [ 0.10725054 -0.19971389]]</td>\n",
       "            </tr>\n",
       "            <tr>\n",
       "                                <td id=\"T_b3cb849e_4e69_11ea_be1e_f0189880cf47row2_col0\" class=\"data row2 col0\" >4</td>\n",
       "                        <td id=\"T_b3cb849e_4e69_11ea_be1e_f0189880cf47row2_col1\" class=\"data row2 col1\" >[[1.04619772]\n",
       " [0.91413586]]</td>\n",
       "                        <td id=\"T_b3cb849e_4e69_11ea_be1e_f0189880cf47row2_col2\" class=\"data row2 col2\" >[[-0.13928706  0.15470443]\n",
       " [ 0.15470443 -0.28483615]]</td>\n",
       "            </tr>\n",
       "            <tr>\n",
       "                                <td id=\"T_b3cb849e_4e69_11ea_be1e_f0189880cf47row3_col0\" class=\"data row3 col0\" >5</td>\n",
       "                        <td id=\"T_b3cb849e_4e69_11ea_be1e_f0189880cf47row3_col1\" class=\"data row3 col1\" >[[1.09483059]\n",
       " [0.93714589]]</td>\n",
       "                        <td id=\"T_b3cb849e_4e69_11ea_be1e_f0189880cf47row3_col2\" class=\"data row3 col2\" >[[-0.15125971  0.16748217]\n",
       " [ 0.16748217 -0.30677972]]</td>\n",
       "            </tr>\n",
       "            <tr>\n",
       "                                <td id=\"T_b3cb849e_4e69_11ea_be1e_f0189880cf47row4_col0\" class=\"data row4 col0\" >6</td>\n",
       "                        <td id=\"T_b3cb849e_4e69_11ea_be1e_f0189880cf47row4_col1\" class=\"data row4 col1\" >[[1.09714789]\n",
       " [0.93755549]]</td>\n",
       "                        <td id=\"T_b3cb849e_4e69_11ea_be1e_f0189880cf47row4_col2\" class=\"data row4 col2\" >[[-0.15179728  0.16803515]\n",
       " [ 0.16803515 -0.30766415]]</td>\n",
       "            </tr>\n",
       "    </tbody></table>"
      ],
      "text/plain": [
       "<pandas.io.formats.style.Styler at 0x11ae87320>"
      ]
     },
     "execution_count": 59,
     "metadata": {},
     "output_type": "execute_result"
    }
   ],
   "source": [
    "\n",
    "##Newton's Method\n",
    "ls = []\n",
    "t = 0\n",
    "maxt = 10\n",
    "alpha = np.array([.1,.1]).reshape(2,1)\n",
    "newta = [alpha[0]]\n",
    "newtb = [alpha[1]]\n",
    "print('Newton\\'s method')\n",
    "for i in range(maxt):\n",
    "    alpha = alpha - inv(l2prime(alpha, beta, N)).dot(lprime(alpha,beta,N))\n",
    "    newta.append(alpha[0])\n",
    "    newtb.append(alpha[1])\n",
    "    ls.append([t,alpha,inv(l2prime(alpha, beta, N))])\n",
    "    t+=1\n",
    "print()\n",
    "#plt.plot(newta,newtb)\n",
    "\n",
    "#Print Table\n",
    "print(\"Table for MLE using Newton's Method\")\n",
    "df = pd.DataFrame(ls[2:7], columns = ['Iteration,t','alpha^\\(t)','[M^(t)]^-1'])\n",
    "df = df.style.hide_index()\n",
    "df = df.set_table_styles([dict(selector='th', props=[('text-align', 'center')])])\n",
    "df"
   ]
  },
  {
   "cell_type": "code",
   "execution_count": 61,
   "metadata": {},
   "outputs": [
    {
     "name": "stdout",
     "output_type": "stream",
     "text": [
      "Fisher Scoring Method\n",
      "\n",
      "Part D: Find the standard error of the MLE\n",
      "The standard error of alpha 1 is  0.43755534329060597\n",
      "The standard error of alpha 2 is  0.6314693270800177\n",
      "\n",
      "Table for MLE using Fisher Information\n"
     ]
    },
    {
     "data": {
      "text/html": [
       "<style  type=\"text/css\" >\n",
       "    #T_cf585d0e_4e69_11ea_be1e_f0189880cf47 th {\n",
       "          text-align: center;\n",
       "    }</style><table id=\"T_cf585d0e_4e69_11ea_be1e_f0189880cf47\" ><thead>    <tr>        <th class=\"col_heading level0 col0\" >Iteration,t</th>        <th class=\"col_heading level0 col1\" >alpha^\\(t)</th>        <th class=\"col_heading level0 col2\" >I^-1</th>    </tr></thead><tbody>\n",
       "                <tr>\n",
       "                                <td id=\"T_cf585d0e_4e69_11ea_be1e_f0189880cf47row0_col0\" class=\"data row0 col0\" >5</td>\n",
       "                        <td id=\"T_cf585d0e_4e69_11ea_be1e_f0189880cf47row0_col1\" class=\"data row0 col1\" >[[1.09595033]\n",
       " [0.93937657]]</td>\n",
       "                        <td id=\"T_cf585d0e_4e69_11ea_be1e_f0189880cf47row0_col2\" class=\"data row0 col2\" >[[ 0.19139981 -0.22812202]\n",
       " [-0.22812202  0.39883142]]</td>\n",
       "            </tr>\n",
       "            <tr>\n",
       "                                <td id=\"T_cf585d0e_4e69_11ea_be1e_f0189880cf47row1_col0\" class=\"data row1 col0\" >6</td>\n",
       "                        <td id=\"T_cf585d0e_4e69_11ea_be1e_f0189880cf47row1_col1\" class=\"data row1 col1\" >[[1.09753224]\n",
       " [0.93697913]]</td>\n",
       "                        <td id=\"T_cf585d0e_4e69_11ea_be1e_f0189880cf47row1_col2\" class=\"data row1 col2\" >[[ 0.19147272 -0.2281431 ]\n",
       " [-0.2281431   0.39872785]]</td>\n",
       "            </tr>\n",
       "            <tr>\n",
       "                                <td id=\"T_cf585d0e_4e69_11ea_be1e_f0189880cf47row2_col0\" class=\"data row2 col0\" >7</td>\n",
       "                        <td id=\"T_cf585d0e_4e69_11ea_be1e_f0189880cf47row2_col1\" class=\"data row2 col1\" >[[1.09703269]\n",
       " [0.9377362 ]]</td>\n",
       "                        <td id=\"T_cf585d0e_4e69_11ea_be1e_f0189880cf47row2_col2\" class=\"data row2 col2\" >[[ 0.19144971 -0.22813646]\n",
       " [-0.22813646  0.39876058]]</td>\n",
       "            </tr>\n",
       "            <tr>\n",
       "                                <td id=\"T_cf585d0e_4e69_11ea_be1e_f0189880cf47row3_col0\" class=\"data row3 col0\" >8</td>\n",
       "                        <td id=\"T_cf585d0e_4e69_11ea_be1e_f0189880cf47row3_col1\" class=\"data row3 col1\" >[[1.09719036]\n",
       " [0.93749725]]</td>\n",
       "                        <td id=\"T_cf585d0e_4e69_11ea_be1e_f0189880cf47row3_col2\" class=\"data row3 col2\" >[[ 0.19145697 -0.22813856]\n",
       " [-0.22813856  0.39875025]]</td>\n",
       "            </tr>\n",
       "            <tr>\n",
       "                                <td id=\"T_cf585d0e_4e69_11ea_be1e_f0189880cf47row4_col0\" class=\"data row4 col0\" >9</td>\n",
       "                        <td id=\"T_cf585d0e_4e69_11ea_be1e_f0189880cf47row4_col1\" class=\"data row4 col1\" >[[1.09714059]\n",
       " [0.93757268]]</td>\n",
       "                        <td id=\"T_cf585d0e_4e69_11ea_be1e_f0189880cf47row4_col2\" class=\"data row4 col2\" >[[ 0.19145468 -0.22813789]\n",
       " [-0.22813789  0.39875351]]</td>\n",
       "            </tr>\n",
       "    </tbody></table>"
      ],
      "text/plain": [
       "<pandas.io.formats.style.Styler at 0x11ad52588>"
      ]
     },
     "execution_count": 61,
     "metadata": {},
     "output_type": "execute_result"
    }
   ],
   "source": [
    "##Fisher Scoring\n",
    "t = 0\n",
    "maxt = 10\n",
    "alpha = np.array([.1,1]).reshape(2,1)\n",
    "fisha = [alpha[0]]\n",
    "fishb = [alpha[1]]\n",
    "ls = []\n",
    "\n",
    "print('Fisher Scoring Method')\n",
    "for i in range(maxt):   \n",
    "    alpha = alpha + inv(fisher(alpha, beta, N)).dot(lprime(alpha,beta,N))\n",
    "    stderr = np.sqrt(np.diag(inv(fisher(alpha, beta, N))))\n",
    "    fisha.append(alpha[0])\n",
    "    fishb.append(alpha[1])\n",
    "    ls.append([t,alpha,inv(fisher(alpha, beta, N))])\n",
    "    \n",
    "    t+=1\n",
    "print()\n",
    "print('Part D: Find the standard error of the MLE')\n",
    "print('The standard error of alpha 1 is ',stderr[0])\n",
    "print('The standard error of alpha 2 is ',stderr[1])\n",
    "print()\n",
    "\n",
    "print(\"Table for MLE using Fisher Information\")\n",
    "df = pd.DataFrame(ls[5:10], columns = ['Iteration,t','alpha^\\(t)','I^-1'])\n",
    "df = df.style.hide_index()\n",
    "df = df.set_table_styles([dict(selector='th', props=[('text-align', 'center')])])\n",
    "df"
   ]
  },
  {
   "cell_type": "markdown",
   "metadata": {},
   "source": [
    "The results for Newton's method and Fisher scoring were similar. Both converged in less than ten iterations, though Newton's method was slightly faster. In terms of ease of implementation, they were basically the same."
   ]
  },
  {
   "cell_type": "code",
   "execution_count": 41,
   "metadata": {},
   "outputs": [
    {
     "name": "stdout",
     "output_type": "stream",
     "text": [
      "Method of Steepest Ascent:\n",
      "\n",
      "Table for MLE using Steepest Ascent\n"
     ]
    },
    {
     "data": {
      "text/html": [
       "<style  type=\"text/css\" >\n",
       "    #T_be7feaae_4e07_11ea_be1e_f0189880cf47 th {\n",
       "          text-align: center;\n",
       "    }</style><table id=\"T_be7feaae_4e07_11ea_be1e_f0189880cf47\" ><thead>    <tr>        <th class=\"col_heading level0 col0\" >Iteration,t</th>        <th class=\"col_heading level0 col1\" >alpha^\\(t)</th>    </tr></thead><tbody>\n",
       "                <tr>\n",
       "                                <td id=\"T_be7feaae_4e07_11ea_be1e_f0189880cf47row0_col0\" class=\"data row0 col0\" >44</td>\n",
       "                        <td id=\"T_be7feaae_4e07_11ea_be1e_f0189880cf47row0_col1\" class=\"data row0 col1\" >[[1.09708341]\n",
       " [0.93766284]]</td>\n",
       "            </tr>\n",
       "            <tr>\n",
       "                                <td id=\"T_be7feaae_4e07_11ea_be1e_f0189880cf47row1_col0\" class=\"data row1 col0\" >45</td>\n",
       "                        <td id=\"T_be7feaae_4e07_11ea_be1e_f0189880cf47row1_col1\" class=\"data row1 col1\" >[[1.09709382]\n",
       " [0.93764653]]</td>\n",
       "            </tr>\n",
       "            <tr>\n",
       "                                <td id=\"T_be7feaae_4e07_11ea_be1e_f0189880cf47row2_col0\" class=\"data row2 col0\" >46</td>\n",
       "                        <td id=\"T_be7feaae_4e07_11ea_be1e_f0189880cf47row2_col1\" class=\"data row2 col1\" >[[1.09710266]\n",
       " [0.93763269]]</td>\n",
       "            </tr>\n",
       "            <tr>\n",
       "                                <td id=\"T_be7feaae_4e07_11ea_be1e_f0189880cf47row3_col0\" class=\"data row3 col0\" >47</td>\n",
       "                        <td id=\"T_be7feaae_4e07_11ea_be1e_f0189880cf47row3_col1\" class=\"data row3 col1\" >[[1.09711018]\n",
       " [0.93762092]]</td>\n",
       "            </tr>\n",
       "            <tr>\n",
       "                                <td id=\"T_be7feaae_4e07_11ea_be1e_f0189880cf47row4_col0\" class=\"data row4 col0\" >48</td>\n",
       "                        <td id=\"T_be7feaae_4e07_11ea_be1e_f0189880cf47row4_col1\" class=\"data row4 col1\" >[[1.09711655]\n",
       " [0.93761093]]</td>\n",
       "            </tr>\n",
       "            <tr>\n",
       "                                <td id=\"T_be7feaae_4e07_11ea_be1e_f0189880cf47row5_col0\" class=\"data row5 col0\" >49</td>\n",
       "                        <td id=\"T_be7feaae_4e07_11ea_be1e_f0189880cf47row5_col1\" class=\"data row5 col1\" >[[1.09712197]\n",
       " [0.93760244]]</td>\n",
       "            </tr>\n",
       "    </tbody></table>"
      ],
      "text/plain": [
       "<pandas.io.formats.style.Styler at 0x11ae0d048>"
      ]
     },
     "execution_count": 41,
     "metadata": {},
     "output_type": "execute_result"
    }
   ],
   "source": [
    "##Ascent\n",
    "t = 0\n",
    "maxt = 50\n",
    "step = 1\n",
    "alpha = np.array([1,1]).reshape(2,1)\n",
    "old = alpha\n",
    "ascenta = [alpha[0]]\n",
    "ascentb = [alpha[1]]\n",
    "ls = []\n",
    "print('Method of Steepest Ascent:')\n",
    "for i in range(maxt):\n",
    "    new = old + step*inv(np.eye(2)).dot(lprime(old,beta,N))\n",
    "    ascenta.append(new[0])\n",
    "    ascentb.append(new[1])\n",
    "    if l(new,beta,N)[0] >l(old,beta,N)[0]: #and l(new,beta,N)[1] >l(old,beta,N)[1]:\n",
    "        ascenta.append(new[0])\n",
    "        ascentb.append(new[1])\n",
    "        ls.append([t,new])\n",
    "        old = new\n",
    "    else: \n",
    "        step  = step*.5\n",
    "    t+=1\n",
    "print()    \n",
    "  \n",
    "print(\"Table for MLE using Steepest Ascent\")\n",
    "df = pd.DataFrame(ls[40:49], columns = ['Iteration,t','alpha^\\(t)'])\n",
    "df = df.style.hide_index()\n",
    "df = df.set_table_styles([dict(selector='th', props=[('text-align', 'center')])])\n",
    "df"
   ]
  },
  {
   "cell_type": "code",
   "execution_count": 63,
   "metadata": {},
   "outputs": [
    {
     "name": "stdout",
     "output_type": "stream",
     "text": [
      "Quasi-Newton's Method:\n",
      "Table for MLE using Quasi-Newton's Method: no backtracking\n"
     ]
    },
    {
     "data": {
      "text/html": [
       "<style  type=\"text/css\" >\n",
       "    #T_f8a91432_4e69_11ea_be1e_f0189880cf47 th {\n",
       "          text-align: center;\n",
       "    }</style><table id=\"T_f8a91432_4e69_11ea_be1e_f0189880cf47\" ><thead>    <tr>        <th class=\"col_heading level0 col0\" >Iteration,t</th>        <th class=\"col_heading level0 col1\" >alpha^\\(t)</th>        <th class=\"col_heading level0 col2\" >I^-1</th>    </tr></thead><tbody>\n",
       "                <tr>\n",
       "                                <td id=\"T_f8a91432_4e69_11ea_be1e_f0189880cf47row0_col0\" class=\"data row0 col0\" >26</td>\n",
       "                        <td id=\"T_f8a91432_4e69_11ea_be1e_f0189880cf47row0_col1\" class=\"data row0 col1\" >[[1.09736   ]\n",
       " [0.93740674]]</td>\n",
       "                        <td id=\"T_f8a91432_4e69_11ea_be1e_f0189880cf47row0_col2\" class=\"data row0 col2\" >[[76.95850312 35.95295587]\n",
       " [35.95295587 27.51705084]]</td>\n",
       "            </tr>\n",
       "            <tr>\n",
       "                                <td id=\"T_f8a91432_4e69_11ea_be1e_f0189880cf47row1_col0\" class=\"data row1 col0\" >27</td>\n",
       "                        <td id=\"T_f8a91432_4e69_11ea_be1e_f0189880cf47row1_col1\" class=\"data row1 col1\" >[[1.0973189]\n",
       " [0.937436 ]]</td>\n",
       "                        <td id=\"T_f8a91432_4e69_11ea_be1e_f0189880cf47row1_col2\" class=\"data row1 col2\" >[[76.95850312 35.95295587]\n",
       " [35.95295587 27.51705084]]</td>\n",
       "            </tr>\n",
       "            <tr>\n",
       "                                <td id=\"T_f8a91432_4e69_11ea_be1e_f0189880cf47row2_col0\" class=\"data row2 col0\" >28</td>\n",
       "                        <td id=\"T_f8a91432_4e69_11ea_be1e_f0189880cf47row2_col1\" class=\"data row2 col1\" >[[1.09728594]\n",
       " [0.93745948]]</td>\n",
       "                        <td id=\"T_f8a91432_4e69_11ea_be1e_f0189880cf47row2_col2\" class=\"data row2 col2\" >[[76.95850312 35.95295587]\n",
       " [35.95295587 27.51705084]]</td>\n",
       "            </tr>\n",
       "            <tr>\n",
       "                                <td id=\"T_f8a91432_4e69_11ea_be1e_f0189880cf47row3_col0\" class=\"data row3 col0\" >29</td>\n",
       "                        <td id=\"T_f8a91432_4e69_11ea_be1e_f0189880cf47row3_col1\" class=\"data row3 col1\" >[[1.0972595 ]\n",
       " [0.93747831]]</td>\n",
       "                        <td id=\"T_f8a91432_4e69_11ea_be1e_f0189880cf47row3_col2\" class=\"data row3 col2\" >[[76.95850312 35.95295587]\n",
       " [35.95295587 27.51705084]]</td>\n",
       "            </tr>\n",
       "            <tr>\n",
       "                                <td id=\"T_f8a91432_4e69_11ea_be1e_f0189880cf47row4_col0\" class=\"data row4 col0\" >30</td>\n",
       "                        <td id=\"T_f8a91432_4e69_11ea_be1e_f0189880cf47row4_col1\" class=\"data row4 col1\" >[[1.09723831]\n",
       " [0.93749342]]</td>\n",
       "                        <td id=\"T_f8a91432_4e69_11ea_be1e_f0189880cf47row4_col2\" class=\"data row4 col2\" >[[76.95850312 35.95295587]\n",
       " [35.95295587 27.51705084]]</td>\n",
       "            </tr>\n",
       "    </tbody></table>"
      ],
      "text/plain": [
       "<pandas.io.formats.style.Styler at 0x11a994ba8>"
      ]
     },
     "execution_count": 63,
     "metadata": {},
     "output_type": "execute_result"
    }
   ],
   "source": [
    "##Quasi-Newton Method\n",
    "t = 0\n",
    "maxt = 50\n",
    "alpha = np.array([.5,1]).reshape(2,1)\n",
    "#alpha1 = np.array([.75,75]).reshape(2,1)\n",
    "M = fisher(alpha,beta,N)\n",
    "quasia = [alpha[0]]\n",
    "quasib = [alpha[1]]\n",
    "ls = []\n",
    "def updateM(alpha0,alpha1,M):\n",
    "    z = alpha1 - alpha0\n",
    "    y = lprime(alpha1,beta,N) - lprime(alpha0,beta,N)\n",
    "    v = y - M.dot(z)\n",
    "    c = 1/(v.T.dot(z))\n",
    "    if np.abs(v.T.dot(z))<.01:\n",
    "        return M\n",
    "    if c>0:\n",
    "        return M\n",
    "    else:      \n",
    "        return  M - c*v.dot(v.T)\n",
    "    \n",
    "old = alpha\n",
    "\n",
    "print('Quasi-Newton\\'s Method:')\n",
    "for i in range(maxt):\n",
    "    new = old + inv(M).dot(lprime(old,beta,N))\n",
    "    quasia.append(new[0]); quasib.append(new[1])\n",
    "    ls.append([t,new,M])\n",
    "    M = updateM(old,new,M)\n",
    "    old=new\n",
    "    t+=1\n",
    "\n",
    "print(\"Table for MLE using Quasi-Newton's Method: no backtracking\")\n",
    "df = pd.DataFrame(ls[26:31], columns = ['Iteration,t','alpha^\\(t)','I^-1'])\n",
    "df = df.style.hide_index()\n",
    "df = df.set_table_styles([dict(selector='th', props=[('text-align', 'center')])])\n",
    "df\n",
    "\n"
   ]
  },
  {
   "cell_type": "code",
   "execution_count": 51,
   "metadata": {},
   "outputs": [
    {
     "name": "stdout",
     "output_type": "stream",
     "text": [
      "Quasi-Newton's Method: with backtrack\n",
      "Table for MLE using Quasi Newton's method: with Backtrack\n"
     ]
    },
    {
     "data": {
      "text/html": [
       "<style  type=\"text/css\" >\n",
       "    #T_ad23e024_4e68_11ea_be1e_f0189880cf47 th {\n",
       "          text-align: center;\n",
       "    }</style><table id=\"T_ad23e024_4e68_11ea_be1e_f0189880cf47\" ><thead>    <tr>        <th class=\"col_heading level0 col0\" >Iteration,t</th>        <th class=\"col_heading level0 col1\" >alpha^\\(t)</th>        <th class=\"col_heading level0 col2\" >I^-1</th>    </tr></thead><tbody>\n",
       "                <tr>\n",
       "                                <td id=\"T_ad23e024_4e68_11ea_be1e_f0189880cf47row0_col0\" class=\"data row0 col0\" >44</td>\n",
       "                        <td id=\"T_ad23e024_4e68_11ea_be1e_f0189880cf47row0_col1\" class=\"data row0 col1\" >[[1.09663936]\n",
       " [0.9385777 ]]</td>\n",
       "                        <td id=\"T_ad23e024_4e68_11ea_be1e_f0189880cf47row0_col2\" class=\"data row0 col2\" >[[38.05161282 25.28987958]\n",
       " [25.28987958 43.30304998]]</td>\n",
       "            </tr>\n",
       "            <tr>\n",
       "                                <td id=\"T_ad23e024_4e68_11ea_be1e_f0189880cf47row1_col0\" class=\"data row1 col0\" >45</td>\n",
       "                        <td id=\"T_ad23e024_4e68_11ea_be1e_f0189880cf47row1_col1\" class=\"data row1 col1\" >[[1.09670058]\n",
       " [0.9384556 ]]</td>\n",
       "                        <td id=\"T_ad23e024_4e68_11ea_be1e_f0189880cf47row1_col2\" class=\"data row1 col2\" >[[38.05161282 25.28987958]\n",
       " [25.28987958 43.30304998]]</td>\n",
       "            </tr>\n",
       "            <tr>\n",
       "                                <td id=\"T_ad23e024_4e68_11ea_be1e_f0189880cf47row2_col0\" class=\"data row2 col0\" >46</td>\n",
       "                        <td id=\"T_ad23e024_4e68_11ea_be1e_f0189880cf47row2_col1\" class=\"data row2 col1\" >[[1.09675451]\n",
       " [0.93834807]]</td>\n",
       "                        <td id=\"T_ad23e024_4e68_11ea_be1e_f0189880cf47row2_col2\" class=\"data row2 col2\" >[[38.05161282 25.28987958]\n",
       " [25.28987958 43.30304998]]</td>\n",
       "            </tr>\n",
       "            <tr>\n",
       "                                <td id=\"T_ad23e024_4e68_11ea_be1e_f0189880cf47row3_col0\" class=\"data row3 col0\" >47</td>\n",
       "                        <td id=\"T_ad23e024_4e68_11ea_be1e_f0189880cf47row3_col1\" class=\"data row3 col1\" >[[1.096802  ]\n",
       " [0.93825337]]</td>\n",
       "                        <td id=\"T_ad23e024_4e68_11ea_be1e_f0189880cf47row3_col2\" class=\"data row3 col2\" >[[38.05161282 25.28987958]\n",
       " [25.28987958 43.30304998]]</td>\n",
       "            </tr>\n",
       "            <tr>\n",
       "                                <td id=\"T_ad23e024_4e68_11ea_be1e_f0189880cf47row4_col0\" class=\"data row4 col0\" >48</td>\n",
       "                        <td id=\"T_ad23e024_4e68_11ea_be1e_f0189880cf47row4_col1\" class=\"data row4 col1\" >[[1.09684382]\n",
       " [0.93816997]]</td>\n",
       "                        <td id=\"T_ad23e024_4e68_11ea_be1e_f0189880cf47row4_col2\" class=\"data row4 col2\" >[[38.05161282 25.28987958]\n",
       " [25.28987958 43.30304998]]</td>\n",
       "            </tr>\n",
       "    </tbody></table>"
      ],
      "text/plain": [
       "<pandas.io.formats.style.Styler at 0x11aed1898>"
      ]
     },
     "execution_count": 51,
     "metadata": {},
     "output_type": "execute_result"
    }
   ],
   "source": [
    "print('Quasi-Newton\\'s Method: with backtrack')\n",
    "def pos_def(M):\n",
    "    if np.array_equal(M, M.T):\n",
    "        try:\n",
    "            np.linalg.cholesky(M)\n",
    "            return True\n",
    "        except np.linalg.LinAlgError:\n",
    "            return False\n",
    "    else:\n",
    "            return False\n",
    "\n",
    "def updateMv2(alpha0,alpha1,M):\n",
    "    z = alpha1 - alpha0\n",
    "    y = lprime(alpha1,beta,N) - lprime(alpha0,beta,N)\n",
    "    v = y - M.dot(z)\n",
    "    c = 1/(v.T.dot(z))\n",
    "    if np.abs(v.T.dot(z))<.01:\n",
    "        return M\n",
    "    if c>0:\n",
    "        return M\n",
    "    else:\n",
    "        M = M - c*v.dot(v.T)\n",
    "    while(not pos_def(M)):\n",
    "        c /=2\n",
    "        M = M - c*v.dot(v.T)\n",
    "    return M\n",
    "\n",
    "t = 0\n",
    "maxt = 50\n",
    "alpha = np.array([1,1]).reshape(2,1)\n",
    "old = alpha\n",
    "M = np.eye(2)\n",
    "backta = [alpha[0]]; backtb = [alpha[1]]\n",
    "ls = [[t,alpha,M]]\n",
    "for i in range(maxt):\n",
    "    t+=1\n",
    "    new = old + inv(M).dot(lprime(old,beta,N))\n",
    "    backta.append(new[0]); backtb.append(new[1])\n",
    "    ls.append([t,new,M])\n",
    "    M = updateMv2(old,new,M)\n",
    "    old=new\n",
    "    \n",
    "\n",
    "print(\"Table for MLE using Quasi Newton's method: with Backtrack\")\n",
    "df = pd.DataFrame(ls[44:49], columns = ['Iteration,t','alpha^\\(t)','I^-1'])\n",
    "df = df.style.hide_index()\n",
    "df = df.set_table_styles([dict(selector='th', props=[('text-align', 'center')])])\n",
    "df\n",
    "\n"
   ]
  },
  {
   "cell_type": "markdown",
   "metadata": {},
   "source": [
    "The quasi-Newton's method without backtracking converged more qucickly. With that said the method with backtracking was more robust as it converged to the correct values when starting from the identity matrix. Without backtracking the method only converged when the Fisher information matrix was chosen as a starting value. "
   ]
  },
  {
   "cell_type": "code",
   "execution_count": 64,
   "metadata": {},
   "outputs": [
    {
     "name": "stdout",
     "output_type": "stream",
     "text": [
      "\n"
     ]
    },
    {
     "data": {
      "image/png": "[encoded data removed]",
      "text/plain": [
       "<Figure size 432x288 with 1 Axes>"
      ]
     },
     "metadata": {
      "needs_background": "light"
     },
     "output_type": "display_data"
    },
    {
     "data": {
      "text/plain": [
       "<Figure size 432x288 with 0 Axes>"
      ]
     },
     "metadata": {},
     "output_type": "display_data"
    }
   ],
   "source": [
    "#Create contour\n",
    "x0 = np.linspace(0.01,2.5,100)\n",
    "y0 = np.linspace(0.01,2.5,100)\n",
    "X,Y = np.meshgrid(x0,y0)\n",
    "Zmesh = np.zeros((X.shape[0],Y.shape[0]))\n",
    "\n",
    "for i in range(X.shape[0]):\n",
    "    for j in range(Y.shape[0]):\n",
    "        a0 = X[i,j]; a1 = Y[i,j]\n",
    "        a = np.array([a0,a1])\n",
    "        Zmesh[i,j]=l(a,beta,N)[0]\n",
    "plt.contourf(X,Y,Zmesh) \n",
    "plt.plot(newta,newtb,'ro-')\n",
    "plt.plot(fisha,fishb,'bo-')\n",
    "plt.plot(ascenta,ascentb,'go-')\n",
    "plt.plot(quasia,quasib,'co-')\n",
    "plt.plot(backta,backtb,'ko-')\n",
    "plt.title('Convergence Countour Plot')\n",
    "plt.legend(['Nweton','Fisher','Ascent','Quasi','Quasibk'])\n",
    "plt.figure()\n",
    "print()\n"
   ]
  },
  {
   "cell_type": "code",
   "execution_count": null,
   "metadata": {},
   "outputs": [],
   "source": []
  }
 ],
 "metadata": {
  "kernelspec": {
   "display_name": "Python 3",
   "language": "python",
   "name": "python3"
  },
  "language_info": {
   "codemirror_mode": {
    "name": "ipython",
    "version": 3
   },
   "file_extension": ".py",
   "mimetype": "text/x-python",
   "name": "python",
   "nbconvert_exporter": "python",
   "pygments_lexer": "ipython3",
   "version": "3.7.0"
  }
 },
 "nbformat": 4,
 "nbformat_minor": 2
}
